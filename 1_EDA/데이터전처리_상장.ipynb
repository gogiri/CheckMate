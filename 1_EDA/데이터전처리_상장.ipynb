{
 "cells": [
  {
   "cell_type": "code",
   "execution_count": 32,
   "metadata": {},
   "outputs": [],
   "source": [
    "import pandas as pd"
   ]
  },
  {
   "cell_type": "markdown",
   "metadata": {},
   "source": [
    "### 1. concat 데이터 불러오기\n",
    "\n",
    "17487 rows × 140 columns"
   ]
  },
  {
   "cell_type": "code",
   "execution_count": 33,
   "metadata": {},
   "outputs": [],
   "source": [
    "df = pd.read_csv('../dataset_kosdaq/ksq_konex_concat.csv',index_col=0)"
   ]
  },
  {
   "cell_type": "code",
   "execution_count": 34,
   "metadata": {},
   "outputs": [],
   "source": [
    "df = df[df['회계년도'].str.endswith('12')]"
   ]
  },
  {
   "cell_type": "code",
   "execution_count": 35,
   "metadata": {},
   "outputs": [
    {
     "name": "stdout",
     "output_type": "stream",
     "text": [
      "<class 'pandas.core.frame.DataFrame'>\n",
      "Index: 17485 entries, (주)CMG제약 to 한국피아이엠(주)\n",
      "Columns: 145 entries, 거래소코드 to 이윤분배율\n",
      "dtypes: float64(131), int64(5), object(9)\n",
      "memory usage: 19.5+ MB\n"
     ]
    }
   ],
   "source": [
    "df.info()"
   ]
  },
  {
   "cell_type": "markdown",
   "metadata": {},
   "source": [
    "### 2. 재무비율 생성을 위해 2년 연속 재무제표가 존재하지 않으면 제거\n",
    "\n",
    "17456 rows × 140 columns"
   ]
  },
  {
   "cell_type": "code",
   "execution_count": 36,
   "metadata": {},
   "outputs": [],
   "source": [
    "# 회계년도를 시간 데이터로 변경\n",
    "df['회계년도'] = pd.to_datetime(df['회계년도'], format='%Y/%m')\n",
    "\n",
    "# 거래소코드와 회계년도 기준으로 정렬\n",
    "df = df.sort_values(by=['거래소코드', '회계년도'])\n",
    "\n",
    "# 3년 연속 데이터 체크\n",
    "def has_consecutive_years(group):\n",
    "    # year 만 가져오기\n",
    "    years = group['회계년도'].dt.year\n",
    "    # 현재 year에서 전 yeear을 뺀값이 1, 총합이 2이상인 것을 반환\n",
    "    return (years.diff().fillna(1) == 1).cumsum().max() >= 2\n",
    "\n",
    "# 거래소코드를 기준으로 groupby 후 filter\n",
    "df = df.groupby('거래소코드').filter(has_consecutive_years)"
   ]
  },
  {
   "cell_type": "markdown",
   "metadata": {},
   "source": [
    "### 3. Labeling 진행\n",
    "상장폐지사유 데이터 불러오기"
   ]
  },
  {
   "cell_type": "code",
   "execution_count": 37,
   "metadata": {},
   "outputs": [],
   "source": [
    "# 회계년도를 datetime\n",
    "df['회계년도'] = pd.to_datetime(df['회계년도'], format='%Y-%m-%d')\n",
    "df = df.sort_values(by=['거래소코드', '회계년도'])\n",
    "\n",
    "# 감사의견코드 중 DI, DS DU, AG, QS가 존재하면 A 아니면 a\n",
    "df['감사의견_y'] = df['감사의견코드'].apply(lambda x: \"A\" if x in ['DI', 'DS', 'DU', 'AG', 'QS'] else \"a\")\n",
    "# 회계년도를 datetime\n",
    "df['회계년도'] = pd.to_datetime(df['회계년도'], format='%Y-%m-%d')\n",
    "df = df.sort_values(by=['거래소코드', '회계년도'])\n",
    "\n",
    "df['자본잠식률_100'] = df['자본잠식률'].apply(lambda x: \"B\" if x >= 100 else \"b\")\n",
    "# 데이터셋을 거래소코드와 회계년도 기준으로 정렬\n",
    "df.sort_values(by=['거래소코드', '회계년도'], inplace=True)\n",
    "\n",
    "# 새로운 'Label' 컬럼을 기본값 'c'로 추가\n",
    "df['자본잠식률_50'] = 'c'\n",
    "\n",
    "# 이전 행의 값 초기화\n",
    "prev_code = None\n",
    "prev_cap_erode_rate = None\n",
    "\n",
    "# 각 행을 순회하며 조건에 따라 'Label' 컬럼 설정\n",
    "for index, row in df.iterrows():\n",
    "    current_code = row['거래소코드']\n",
    "    current_cap_erode_rate = row['자본잠식률']\n",
    "\n",
    "    # 현재 행과 이전 행이 같은 회사이고, 두 해 모두 자본잠식률이 50 이상인 경우 'C'로 표시\n",
    "    if current_code == prev_code and current_cap_erode_rate >= 50 and prev_cap_erode_rate >= 50:\n",
    "        df.at[index, '자본잠식률_50'] = 'C'\n",
    "\n",
    "    # 이전 행 값 업데이트\n",
    "    prev_code = current_code\n",
    "    prev_cap_erode_rate = current_cap_erode_rate\n",
    "\n",
    "# 라벨링 조건에 따라 'y' 컬럼 생성\n",
    "df['y'] = ((df['감사의견_y'] == 'A') | \n",
    "        (df['자본잠식률_100'] == 'B') | \n",
    "        (df['자본잠식률_50'] == 'C')).astype(int)"
   ]
  },
  {
   "cell_type": "code",
   "execution_count": 38,
   "metadata": {},
   "outputs": [],
   "source": [
    "label = pd.read_csv('../dataset_kosdaq/상장폐지사유.csv')"
   ]
  },
  {
   "cell_type": "code",
   "execution_count": 39,
   "metadata": {},
   "outputs": [],
   "source": [
    "label_list = ['감사의견 거절(감사범위 제한)','상장예비심사 청구서 미제출로 관리종목 지정 후 1개월 이내 동 사유 미해소', \"상장폐지 신청('23.06.28)\", '감사의견 거절(감사범위 제한 및 계속기업가정 불확실성)',\n",
    "    '기업의 계속성 및 경영의 투명성 등을 종합적으로 고려하여 상장폐지기준에 해당한다고 결정',\n",
    "    '감사의견 거절(감사범위 제한 및 계속기업 존속능력 불확실성)',\n",
    "    '기업의 계속성 및 경영의 투명성 등을 종합적을 고려하여 상장폐지기준에 해당한다고 결정',\n",
    "    '상장예비심사 청구서 미제출로 관리종목 지정 후 1개월 이내 동사유 미해소', '감사의견 거절',\n",
    "    '감사의견 거절(감사범위 제한 및 계속기업 존속능력에 대한 불확실성)',\n",
    "    '발행한 어음 또는 수표가 주거래은행에 의하여 최종부도로 결정되거나 거래은행에 의한 거래정지',\n",
    "    '해산사유 발생(파산선고)', '감사의견 한정(감사범위 제한)',\n",
    "    '법정제출기한까지 사업보고서를 제출하지 아니한 후, 법정제출기한의 다음날부터 10일이내에 사업보고서를 제출하지 아니함',\n",
    "    '기업의 계속성 및 경영의 투명성 등을 종합적으로 고려하여 상장폐지기준에 해당',\n",
    "    '최근 2년간 3회 이상 공시규정 제19조제1항의 규정에 의한 사업보고서, 반기보고서 또는 분기보고서 법정제출기한 내 미제출',\n",
    "    '감사의견거절(감사범위 제한)', '감사의견거절(감사범위제한)',\n",
    "    '감사의견거절(감사범위제한 및 계속기업 존속 불확실)',\n",
    "    '제28조제1항제9호에 따라 관리종목 지정 후 공시규정 제19조제1항에 따른 사업보고서 법정제출기한 내 미제출, 최근 2년간 3회 이상 공시규정 제19조제1항의 규정에 의한 사업보고서, 반기보고서 또는 분기보고서 법정제출기한 내 미제출',\n",
    "    '상장예비심사 청구서 미제출로 관리종목 지정후 1개월 이내 동사유를 미해소',\n",
    "    '제28조제1항제9호에 따라 관리종목 지정 후 공시규정 제19조 제1항에 따른 분기보고서 법정기한 내 미제출',\n",
    "    '감사의견거절(감사범위 제한 및 계속기업 존속능력에 대한 불확실성)',\n",
    "    '감사의견거절(범위제한 및 계속기업 존속능력에 대한 불확실성)',\n",
    "    \"'16사업연도 감사의견거절(계속기업 존속능력에 대한 불확실성) 및 '17사업연도 반기 감사의견거절(계속기업 존속능력에 대한 불확실성)\",\n",
    "    '감사의견 거절(내부회계관리제도상의 취약점, 계속기업가정의 불확실성 및 재고자산 관련 감사범위 제한)',\n",
    "    '감사범위제한으로 인한 한정의견', '자본전액잠식 등',\n",
    "    '최근 5사업연도 연속 영업손실 발생',\n",
    "    '감사의견 거절(감사범위 제한 및 기업회계기준 위배)', '2반기 연속 자본잠식률 50% 이상',\n",
    "    '감사의견 거절(감사범위 제한으로 인한 의견거절)',\n",
    "    \"'14사업연도 자본잠식률 50%이상 사유로 관리종목 지정 후 '15사업연도 반기 감사의견 거절\", '자본전액잠식',\n",
    "    '기업의 계속성, 경영의 투명성 또는 그 밖에 코스닥시장의 건전성 등을 종합적으로 고려하여 상장폐지 기준에 해당한다고 결정',\n",
    "    '감사의견 거절(계속기업 존속능력에 대한 불확실성 및 감사범위 제한)',\n",
    "    '발행한 어음 또는 수표가 주거래은행에 의하여 최종부도로 결정되거나 거래은행에 의한 거래 정지',\n",
    "    \"상장폐지 신청('15.01.15)\", '감사의견 거절(계속기업 존속능력에 대한 불확실성)',\n",
    "    '감사의견 거절(감사범위 제한 및 계속기업 존속능력에 대한 불확실성', \"상장폐지신청('14.04.22)\",\n",
    "    '최종부도 발생', '자본전액잠식등', '최근 5사업연도 연속 영업손실 발생 등',\n",
    "    '기업의 계속성, 경영의 투명성 또는 기타 코스닥시장의 건전성 등을 종합적으로 고려하여 상장폐지가 필요하다고 인정',\n",
    "    \"상장폐지신청('13.09.06)\", '의견거절(감사범위 제한)',\n",
    "    '감사의견거절(감사범위 제한 및 계속기업으로서의 존속능력에 대한 불확실성)', \"상장폐지 신청('13.05.08)\",\n",
    "    '감사의견거절(계속기업으로서의 존속능력에 대한 불확실성)', '감사의견 부적정',\n",
    "    '반기 재무제표에 대한 검토의견거절로 관리종목 지정후 자본잠식률 50% 이상', '2반기 연속 자본잠식률 50%이상',\n",
    "    '상장예비심사 청구서 미제출로 관리종목 지정후 1개월 이내 동 사유 미해소','외부감사인의 감사의견 의견거절',\n",
    "    '발행한 어음 또는 수표가 주거래은행에 의하여 최종부도로 결정되거나 거래은행에 의한 거래정지',\n",
    "    '감사의견 의견거절(감사범위제한 및 계속기업 존속불확실성)', \n",
    "    '외부감사인의 감사의견 거절(감사범위 제한), 감사의견 한정(감사범위 제한)',\n",
    "    '외부감사인의 감사의견 의견거절(감사범위 제한)', '감사의견 거절(계속기업 존속능력에 대한 불확실성)',\n",
    "    '파산선고에 따른 해산사유 발생',\n",
    "    '감사의견 거절(감사범위 제한)', \n",
    "    '감사의견 거절(감사범위 제한 및 계속기업 존속능력에 대한 불확실성)',\n",
    "    '최종부도 발생','감사의견 거절(감사범위제한)']"
   ]
  },
  {
   "cell_type": "code",
   "execution_count": 40,
   "metadata": {},
   "outputs": [],
   "source": [
    "# Filtering the dataset for rows where 폐지사유 is in the label list\n",
    "filtered_data = label[label['폐지사유'].isin(label_list)]\n",
    "\n",
    "# Selecting only the 종목코드 and 폐지일자 columns\n",
    "result = filtered_data[['종목코드', '폐지일자']]\n"
   ]
  },
  {
   "cell_type": "code",
   "execution_count": 41,
   "metadata": {},
   "outputs": [
    {
     "name": "stderr",
     "output_type": "stream",
     "text": [
      "C:\\Users\\hotte\\AppData\\Local\\Temp\\ipykernel_20656\\1715330378.py:7: SettingWithCopyWarning: \n",
      "A value is trying to be set on a copy of a slice from a DataFrame.\n",
      "Try using .loc[row_indexer,col_indexer] = value instead\n",
      "\n",
      "See the caveats in the documentation: https://pandas.pydata.org/pandas-docs/stable/user_guide/indexing.html#returning-a-view-versus-a-copy\n",
      "  result['폐지일자'] = pd.to_datetime(result['폐지일자'])\n",
      "C:\\Users\\hotte\\AppData\\Local\\Temp\\ipykernel_20656\\1715330378.py:8: SettingWithCopyWarning: \n",
      "A value is trying to be set on a copy of a slice from a DataFrame.\n",
      "Try using .loc[row_indexer,col_indexer] = value instead\n",
      "\n",
      "See the caveats in the documentation: https://pandas.pydata.org/pandas-docs/stable/user_guide/indexing.html#returning-a-view-versus-a-copy\n",
      "  result['폐지년'] = result['폐지일자'].dt.year\n",
      "C:\\Users\\hotte\\AppData\\Local\\Temp\\ipykernel_20656\\1715330378.py:9: SettingWithCopyWarning: \n",
      "A value is trying to be set on a copy of a slice from a DataFrame.\n",
      "Try using .loc[row_indexer,col_indexer] = value instead\n",
      "\n",
      "See the caveats in the documentation: https://pandas.pydata.org/pandas-docs/stable/user_guide/indexing.html#returning-a-view-versus-a-copy\n",
      "  result['폐지전년'] = result['폐지년'] - 1  # '폐지년'의 전년도를 계산합니다.\n"
     ]
    }
   ],
   "source": [
    "import pandas as pd\n",
    "\n",
    "# df1에서 '종목코드'를 기준으로 그룹화하고 '회계년도'를 오름차순으로 정렬합니다.\n",
    "df1_sorted = df.groupby('거래소코드').apply(lambda x: x.sort_values('회계년도', ascending=True)).reset_index(drop=True)\n",
    "\n",
    "# df2의 '폐지일자'를 datetime 형식으로 변환하고 '폐지년'을 추출합니다.\n",
    "result['폐지일자'] = pd.to_datetime(result['폐지일자'])\n",
    "result['폐지년'] = result['폐지일자'].dt.year\n",
    "result['폐지전년'] = result['폐지년'] - 1  # '폐지년'의 전년도를 계산합니다.\n",
    "\n",
    "# df1에 '회계년' 컬럼을 추가합니다.\n",
    "df['회계년'] = pd.to_datetime(df['회계년도']).dt.year\n",
    "\n",
    "# df1의 각 행에 대해 df2의 '폐지전년'과 일치하는 '회계년'이 있는지 확인하고, \n",
    "# 일치하는 경우 해당 행의 'y' 라벨을 1로 설정합니다.\n",
    "delisting_dict = result.set_index('종목코드')['폐지전년'].to_dict()\n",
    "df['D'] = df.apply(lambda row: \"D\" if delisting_dict.get(row['거래소코드'], 0) == row['회계년'] else \"d\", axis=1)\n",
    "\n",
    "# Removing the additional columns (except 'y') that were added during the process\n",
    "columns_to_remove = ['회계년', '폐지전년','폐지일자','폐지년']\n",
    "df1_cleaned = df.drop(columns=columns_to_remove, errors='ignore')\n"
   ]
  },
  {
   "cell_type": "code",
   "execution_count": 42,
   "metadata": {},
   "outputs": [],
   "source": [
    "df = df1_cleaned"
   ]
  },
  {
   "cell_type": "code",
   "execution_count": 43,
   "metadata": {},
   "outputs": [],
   "source": [
    "# 라벨링 조건에 따라 'y' 컬럼 생성\n",
    "df['y'] = ((df['감사의견_y'] == 'A') | \n",
    "        (df['자본잠식률_100'] == 'B') | \n",
    "        (df['자본잠식률_50'] == 'C') |\n",
    "        (df['자본잠식률_50'] == 'D')).astype(int)"
   ]
  },
  {
   "cell_type": "markdown",
   "metadata": {},
   "source": [
    "### 4. 결측치\n",
    "\n",
    "한 컬럼의 결측치가 존재하면 기업 별로 컬럼의 중앙값으로 대체"
   ]
  },
  {
   "cell_type": "code",
   "execution_count": 44,
   "metadata": {},
   "outputs": [
    {
     "data": {
      "text/plain": [
       "[41060,\n",
       " 44990,\n",
       " 44990,\n",
       " 93510,\n",
       " 148780,\n",
       " 150440,\n",
       " 179720,\n",
       " 188260,\n",
       " 199730,\n",
       " 220110,\n",
       " 220250,\n",
       " 222670,\n",
       " 222670,\n",
       " 229480,\n",
       " 229480,\n",
       " 238170,\n",
       " 238170,\n",
       " 240600,\n",
       " 246830,\n",
       " 248020,\n",
       " 253610,\n",
       " 254160,\n",
       " 263750,\n",
       " 266170,\n",
       " 283100,\n",
       " 283100,\n",
       " 284620,\n",
       " 286000,\n",
       " 288490,\n",
       " 298380,\n",
       " 299910,\n",
       " 300080,\n",
       " 308080,\n",
       " 309900,\n",
       " 318660,\n",
       " 318660,\n",
       " 321370,\n",
       " 322190,\n",
       " 329020,\n",
       " 329050,\n",
       " 336040,\n",
       " 337840,\n",
       " 343090,\n",
       " 343090,\n",
       " 343090,\n",
       " 348840,\n",
       " 348840,\n",
       " 351020,\n",
       " 351020,\n",
       " 352910,\n",
       " 355390,\n",
       " 355390,\n",
       " 357880,\n",
       " 358570,\n",
       " 365270,\n",
       " 372320,\n",
       " 372320,\n",
       " 376300,\n",
       " 376980,\n",
       " 377480,\n",
       " 388870,\n",
       " 388870,\n",
       " 397030,\n",
       " 406820,\n",
       " 413640,\n",
       " 413640,\n",
       " 416180,\n",
       " 417860,\n",
       " 418470,\n",
       " 424960,\n",
       " 432720,\n",
       " 432720,\n",
       " 440110,\n",
       " 445180,\n",
       " 446540,\n",
       " 446600,\n",
       " 447690,\n",
       " 450520,\n",
       " 450520,\n",
       " 456570,\n",
       " 456570,\n",
       " 900040,\n",
       " 900040,\n",
       " 900040,\n",
       " 900040,\n",
       " 900040,\n",
       " 900040,\n",
       " 900040,\n",
       " 900040,\n",
       " 900040,\n",
       " 900040,\n",
       " 900040,\n",
       " 900040,\n",
       " 900040,\n",
       " 900040,\n",
       " 900040,\n",
       " 900040,\n",
       " 900040,\n",
       " 900080,\n",
       " 900080,\n",
       " 900080,\n",
       " 900080,\n",
       " 900080,\n",
       " 900080,\n",
       " 900080,\n",
       " 900080,\n",
       " 900080,\n",
       " 900080,\n",
       " 900080,\n",
       " 900080,\n",
       " 900080,\n",
       " 900080,\n",
       " 900080,\n",
       " 900080,\n",
       " 900080,\n",
       " 900180,\n",
       " 900180,\n",
       " 900180,\n",
       " 900180,\n",
       " 900180,\n",
       " 900180,\n",
       " 900180,\n",
       " 900180,\n",
       " 900180,\n",
       " 900180,\n",
       " 900180,\n",
       " 900180,\n",
       " 900180,\n",
       " 900180,\n",
       " 900180,\n",
       " 900180,\n",
       " 900180]"
      ]
     },
     "execution_count": 44,
     "metadata": {},
     "output_type": "execute_result"
    }
   ],
   "source": [
    "\n",
    "# 한글로 주석 처리하여 코드 재작성 및 설명 추가\n",
    "\n",
    "# 1단계: '거래소코드' 기준으로 데이터 그룹화\n",
    "grouped = df.groupby('거래소코드')\n",
    "\n",
    "# 2단계: 'y' 컬럼 값이 1인 '거래소코드' 그룹 찾기\n",
    "codes_with_y_1 = grouped.filter(lambda x: (x['y'] == 1).any()).groupby('거래소코드')\n",
    "\n",
    "# '거래소코드' 중 전체 컬럼이 NaN인 경우를 저장할 리스트 초기화\n",
    "codes_with_all_nan_columns = []\n",
    "\n",
    "# 3단계, 4단계, 5단계를 위한 반복문\n",
    "for name, group in codes_with_y_1:\n",
    "    # NaN 값을 가진 컬럼 식별\n",
    "    nan_columns = group.columns[group.isna().any()].tolist()\n",
    "\n",
    "    # 컬럼 유형 확인 및 필요시 NaN을 중앙값으로 대체\n",
    "    for col in nan_columns:\n",
    "        if group[col].dtype in ['float64', 'int64']:\n",
    "            if group[col].isna().all():\n",
    "                # 모든 값이 NaN인 경우 해당 '거래소코드'를 리스트에 추가\n",
    "                codes_with_all_nan_columns.append(name)\n",
    "            else:\n",
    "                # NaN을 해당 그룹의 해당 컬럼의 중앙값으로 대체\n",
    "                group[col].fillna(group[col].median(), inplace=True)\n",
    "\n",
    "# 모든 컬럼이 NaN인 '거래소코드' 목록 출력\n",
    "codes_with_all_nan_columns\n"
   ]
  },
  {
   "cell_type": "code",
   "execution_count": 45,
   "metadata": {},
   "outputs": [
    {
     "data": {
      "text/plain": [
       "67"
      ]
     },
     "execution_count": 45,
     "metadata": {},
     "output_type": "execute_result"
    }
   ],
   "source": [
    "len(set(codes_with_all_nan_columns))"
   ]
  },
  {
   "cell_type": "code",
   "execution_count": 46,
   "metadata": {},
   "outputs": [],
   "source": [
    "# 거래소코드를 기준으로 그룹바이, 첫행 삭제\n",
    "grouped_df = df.groupby('거래소코드').apply(lambda x: x.iloc[1:]).reset_index(drop=True)"
   ]
  },
  {
   "cell_type": "markdown",
   "metadata": {},
   "source": [
    "### 5. 부도년도 이후 데이터 삭제\n",
    "\n",
    "15246 rows × 150 columns"
   ]
  },
  {
   "cell_type": "code",
   "execution_count": 47,
   "metadata": {},
   "outputs": [],
   "source": [
    "def remove_post_default_data(group):\n",
    "    # 최초 부도 년도 설정\n",
    "    default_year = group[group['y'] == 1]['회계년도'].min()\n",
    "    \n",
    "    # default 값이 nan이 아니면 작거나 같은 데이터만 가져옴\n",
    "    if not pd.isnull(default_year):\n",
    "        group = group[group['회계년도'] <= default_year]\n",
    "    \n",
    "    return group\n",
    "\n",
    "# 회사명으로 그룹바이 후 함수 적용\n",
    "df = grouped_df.groupby('거래소코드').apply(remove_post_default_data).reset_index(drop=True)"
   ]
  },
  {
   "cell_type": "code",
   "execution_count": 48,
   "metadata": {},
   "outputs": [
    {
     "data": {
      "text/html": [
       "<div>\n",
       "<style scoped>\n",
       "    .dataframe tbody tr th:only-of-type {\n",
       "        vertical-align: middle;\n",
       "    }\n",
       "\n",
       "    .dataframe tbody tr th {\n",
       "        vertical-align: top;\n",
       "    }\n",
       "\n",
       "    .dataframe thead th {\n",
       "        text-align: right;\n",
       "    }\n",
       "</style>\n",
       "<table border=\"1\" class=\"dataframe\">\n",
       "  <thead>\n",
       "    <tr style=\"text-align: right;\">\n",
       "      <th></th>\n",
       "      <th>거래소코드</th>\n",
       "      <th>회계년도</th>\n",
       "      <th>순이익증가율</th>\n",
       "      <th>자본잠식률</th>\n",
       "      <th>영업이익증가율</th>\n",
       "      <th>총자본증가율</th>\n",
       "      <th>자기자본증가율</th>\n",
       "      <th>유형자산증가율</th>\n",
       "      <th>유동자산증가율</th>\n",
       "      <th>재고자산증가율</th>\n",
       "      <th>...</th>\n",
       "      <th>기계투자효율</th>\n",
       "      <th>부가가치율</th>\n",
       "      <th>노동소득분배율</th>\n",
       "      <th>자본분배율</th>\n",
       "      <th>이윤분배율</th>\n",
       "      <th>감사의견_y</th>\n",
       "      <th>자본잠식률_100</th>\n",
       "      <th>자본잠식률_50</th>\n",
       "      <th>y</th>\n",
       "      <th>D</th>\n",
       "    </tr>\n",
       "  </thead>\n",
       "  <tbody>\n",
       "    <tr>\n",
       "      <th>9799</th>\n",
       "      <td>149300</td>\n",
       "      <td>2016-12-01</td>\n",
       "      <td>NaN</td>\n",
       "      <td>NaN</td>\n",
       "      <td>NaN</td>\n",
       "      <td>NaN</td>\n",
       "      <td>NaN</td>\n",
       "      <td>NaN</td>\n",
       "      <td>NaN</td>\n",
       "      <td>NaN</td>\n",
       "      <td>...</td>\n",
       "      <td>NaN</td>\n",
       "      <td>NaN</td>\n",
       "      <td>NaN</td>\n",
       "      <td>NaN</td>\n",
       "      <td>NaN</td>\n",
       "      <td>a</td>\n",
       "      <td>b</td>\n",
       "      <td>C</td>\n",
       "      <td>1</td>\n",
       "      <td>d</td>\n",
       "    </tr>\n",
       "  </tbody>\n",
       "</table>\n",
       "<p>1 rows × 150 columns</p>\n",
       "</div>"
      ],
      "text/plain": [
       "       거래소코드       회계년도  순이익증가율  자본잠식률  영업이익증가율  총자본증가율  자기자본증가율  유형자산증가율  \\\n",
       "9799  149300 2016-12-01     NaN    NaN      NaN     NaN      NaN      NaN   \n",
       "\n",
       "      유동자산증가율  재고자산증가율  ...  기계투자효율  부가가치율  노동소득분배율 자본분배율  이윤분배율  감사의견_y  \\\n",
       "9799      NaN      NaN  ...     NaN    NaN      NaN   NaN    NaN       a   \n",
       "\n",
       "     자본잠식률_100 자본잠식률_50  y  D  \n",
       "9799         b        C  1  d  \n",
       "\n",
       "[1 rows x 150 columns]"
      ]
     },
     "execution_count": 48,
     "metadata": {},
     "output_type": "execute_result"
    }
   ],
   "source": [
    "df[(df['y']==1)&(df['자본잠식률'].isna())]"
   ]
  },
  {
   "cell_type": "markdown",
   "metadata": {},
   "source": [
    "### 6. 부도년도 이전 데이터\n",
    "\n",
    "전년도의 자본잠식률이 50%면 1\n",
    "나머지 데이터는 삭제\n",
    "\n",
    "182114 rows × 156 columns"
   ]
  },
  {
   "cell_type": "code",
   "execution_count": 49,
   "metadata": {},
   "outputs": [],
   "source": [
    "# 거래소 코드와 회계년도를 기준으로 정렬\n",
    "df = df.sort_values(by=['거래소코드', '회계년도'])\n",
    "\n",
    "for i in range(1, len(df)):\n",
    "    # y가 1 인 경우\n",
    "    if df.loc[i, 'y'] == 1:\n",
    "        # 해당 행과 전 행의 거래소 코드가 같으면\n",
    "        if df.loc[i, '거래소코드'] == df.loc[i-1, '거래소코드']:\n",
    "            # 전 행의 자본잠식률이 50이상이면\n",
    "            if df.loc[i-1, '자본잠식률'] >= 50:\n",
    "                # 전 행의 y 가 1\n",
    "                df.loc[i-1, 'y'] = 1"
   ]
  },
  {
   "cell_type": "code",
   "execution_count": 50,
   "metadata": {},
   "outputs": [],
   "source": [
    "# 부도 데이터 중 정상 데이터 삭제\n",
    "\n",
    "def remove_post_default_data(group):\n",
    "    # 최초 부도 년도 설정\n",
    "    default_year = group[group['y'] == 1]['회계년도'].min()\n",
    "    \n",
    "    # default 값이 nan이 아니면 크거나 같은 데이터만 가져옴\n",
    "    if not pd.isnull(default_year):\n",
    "        group = group[group['회계년도'] >= default_year]\n",
    "    \n",
    "    return group\n",
    "\n",
    "# 회사명으로 그룹바이 후 함수 적용\n",
    "df = df.groupby('거래소코드').apply(remove_post_default_data).reset_index(drop=True)"
   ]
  },
  {
   "cell_type": "markdown",
   "metadata": {},
   "source": [
    "# 7. 정상기업 1번째 회계년도 제거\n",
    "# 전체 데이터 회계년도 2012년도 데이터 삭제"
   ]
  },
  {
   "cell_type": "code",
   "execution_count": 51,
   "metadata": {},
   "outputs": [],
   "source": [
    "df.to_csv('../dataset_kosdaq/상장최종.csv')"
   ]
  },
  {
   "cell_type": "code",
   "execution_count": 61,
   "metadata": {},
   "outputs": [
    {
     "data": {
      "text/plain": [
       "329"
      ]
     },
     "execution_count": 61,
     "metadata": {},
     "output_type": "execute_result"
    }
   ],
   "source": [
    "df[df['y']==1]['거래소코드'].nunique()"
   ]
  },
  {
   "cell_type": "code",
   "execution_count": null,
   "metadata": {},
   "outputs": [],
   "source": []
  }
 ],
 "metadata": {
  "kernelspec": {
   "display_name": "Python 3",
   "language": "python",
   "name": "python3"
  },
  "language_info": {
   "codemirror_mode": {
    "name": "ipython",
    "version": 3
   },
   "file_extension": ".py",
   "mimetype": "text/x-python",
   "name": "python",
   "nbconvert_exporter": "python",
   "pygments_lexer": "ipython3",
   "version": "3.11.4"
  }
 },
 "nbformat": 4,
 "nbformat_minor": 2
}
